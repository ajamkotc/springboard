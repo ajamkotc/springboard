{
 "cells": [
  {
   "cell_type": "code",
   "execution_count": 1,
   "id": "bb88fdc3-96cf-4593-ac61-40b6daf003dc",
   "metadata": {},
   "outputs": [],
   "source": [
    "import sqlalchemy as db\n",
    "import pandas as pd"
   ]
  },
  {
   "cell_type": "code",
   "execution_count": 2,
   "id": "2efcb681-7b54-425a-9e3f-b3be63de8466",
   "metadata": {},
   "outputs": [],
   "source": [
    "# Establish connection with engine\n",
    "\n",
    "engine = db.create_engine('sqlite:///sqlite_db_pythonsqlite.db')\n",
    "con = engine.connect()"
   ]
  },
  {
   "cell_type": "code",
   "execution_count": 3,
   "id": "2f1dfb8a-f144-48c7-a4d0-580badb321e5",
   "metadata": {},
   "outputs": [
    {
     "name": "stderr",
     "output_type": "stream",
     "text": [
      "/tmp/ipykernel_338755/3551606087.py:2: SAWarning: Could not instantiate type <class 'sqlalchemy.sql.sqltypes.INTEGER'> with reflected arguments ['2']; using no arguments.\n",
      "  members = db.Table('Members', metadata, autoload_with=engine)\n",
      "/tmp/ipykernel_338755/3551606087.py:2: SAWarning: Could not instantiate type <class 'sqlalchemy.sql.sqltypes.INTEGER'> with reflected arguments ['5']; using no arguments.\n",
      "  members = db.Table('Members', metadata, autoload_with=engine)\n",
      "/tmp/ipykernel_338755/3551606087.py:5: SAWarning: Could not instantiate type <class 'sqlalchemy.sql.sqltypes.INTEGER'> with reflected arguments ['1']; using no arguments.\n",
      "  facilities = db.Table('Facilities', f_metadata, autoload_with=engine)\n",
      "/tmp/ipykernel_338755/3551606087.py:5: SAWarning: Could not instantiate type <class 'sqlalchemy.sql.sqltypes.INTEGER'> with reflected arguments ['5']; using no arguments.\n",
      "  facilities = db.Table('Facilities', f_metadata, autoload_with=engine)\n",
      "/tmp/ipykernel_338755/3551606087.py:5: SAWarning: Could not instantiate type <class 'sqlalchemy.sql.sqltypes.INTEGER'> with reflected arguments ['4']; using no arguments.\n",
      "  facilities = db.Table('Facilities', f_metadata, autoload_with=engine)\n",
      "/tmp/ipykernel_338755/3551606087.py:8: SAWarning: Could not instantiate type <class 'sqlalchemy.sql.sqltypes.INTEGER'> with reflected arguments ['4']; using no arguments.\n",
      "  bookings = db.Table('Bookings', b_metadata, autoload_with=engine)\n",
      "/tmp/ipykernel_338755/3551606087.py:8: SAWarning: Could not instantiate type <class 'sqlalchemy.sql.sqltypes.INTEGER'> with reflected arguments ['1']; using no arguments.\n",
      "  bookings = db.Table('Bookings', b_metadata, autoload_with=engine)\n",
      "/tmp/ipykernel_338755/3551606087.py:8: SAWarning: Could not instantiate type <class 'sqlalchemy.sql.sqltypes.INTEGER'> with reflected arguments ['2']; using no arguments.\n",
      "  bookings = db.Table('Bookings', b_metadata, autoload_with=engine)\n"
     ]
    }
   ],
   "source": [
    "metadata = db.MetaData()\n",
    "members = db.Table('Members', metadata, autoload_with=engine)\n",
    "\n",
    "f_metadata = db.MetaData()\n",
    "facilities = db.Table('Facilities', f_metadata, autoload_with=engine)\n",
    "\n",
    "b_metadata = db.MetaData()\n",
    "bookings = db.Table('Bookings', b_metadata, autoload_with=engine)"
   ]
  },
  {
   "cell_type": "markdown",
   "id": "f728f88f-2ce5-4c3f-9305-0ea5f96bb6fd",
   "metadata": {},
   "source": [
    "# Q10"
   ]
  },
  {
   "cell_type": "code",
   "execution_count": 4,
   "id": "09970826-8013-4a56-b569-865286abae05",
   "metadata": {},
   "outputs": [],
   "source": [
    "query = \"\"\"SELECT\n",
    "\tf.name,\n",
    "\tguest_revenue + member_revenue AS total_revenue\n",
    "FROM\n",
    "\t(SELECT\n",
    "\t\tfacid,\n",
    "\t\tSUM(slots) * guestcost AS guest_revenue\n",
    "\t FROM Bookings\n",
    "     LEFT JOIN Facilities\n",
    "     USING(facid)\n",
    "\t WHERE memid = 0\n",
    "\t GROUP BY facid) AS guest\n",
    "LEFT JOIN\n",
    "\t(SELECT\n",
    "   \t\tfacid,\n",
    "   \t\tSUM(slots) * membercost AS member_revenue\n",
    "\t FROM Bookings\n",
    "     LEFT JOIN Facilities\n",
    "     USING(facid)\n",
    "\t WHERE memid <> 0\n",
    "\t GROUP BY facid) AS member\n",
    "USING(facid)\n",
    "LEFT JOIN Facilities AS f\n",
    "USING(facid)\n",
    "WHERE guest_revenue + member_revenue < 1000\n",
    "ORDER BY total_revenue;\"\"\""
   ]
  },
  {
   "cell_type": "code",
   "execution_count": 5,
   "id": "33cd084f-9dfc-4306-954c-2414caa3c90c",
   "metadata": {},
   "outputs": [
    {
     "data": {
      "text/html": [
       "<div>\n",
       "<style scoped>\n",
       "    .dataframe tbody tr th:only-of-type {\n",
       "        vertical-align: middle;\n",
       "    }\n",
       "\n",
       "    .dataframe tbody tr th {\n",
       "        vertical-align: top;\n",
       "    }\n",
       "\n",
       "    .dataframe thead th {\n",
       "        text-align: right;\n",
       "    }\n",
       "</style>\n",
       "<table border=\"1\" class=\"dataframe\">\n",
       "  <thead>\n",
       "    <tr style=\"text-align: right;\">\n",
       "      <th></th>\n",
       "      <th>name</th>\n",
       "      <th>total_revenue</th>\n",
       "    </tr>\n",
       "  </thead>\n",
       "  <tbody>\n",
       "    <tr>\n",
       "      <th>0</th>\n",
       "      <td>Table Tennis</td>\n",
       "      <td>180</td>\n",
       "    </tr>\n",
       "    <tr>\n",
       "      <th>1</th>\n",
       "      <td>Snooker Table</td>\n",
       "      <td>240</td>\n",
       "    </tr>\n",
       "    <tr>\n",
       "      <th>2</th>\n",
       "      <td>Pool Table</td>\n",
       "      <td>270</td>\n",
       "    </tr>\n",
       "  </tbody>\n",
       "</table>\n",
       "</div>"
      ],
      "text/plain": [
       "            name  total_revenue\n",
       "0   Table Tennis            180\n",
       "1  Snooker Table            240\n",
       "2     Pool Table            270"
      ]
     },
     "execution_count": 5,
     "metadata": {},
     "output_type": "execute_result"
    }
   ],
   "source": [
    "revenue_rs = con.execute(db.text(query))\n",
    "revenue_df = pd.DataFrame(revenue_rs.fetchall())\n",
    "revenue_df"
   ]
  },
  {
   "cell_type": "markdown",
   "id": "3c677630-d0fd-49c7-9b62-ac91b9d8668f",
   "metadata": {},
   "source": [
    "# Q11"
   ]
  },
  {
   "cell_type": "code",
   "execution_count": 6,
   "id": "2cc40d96-cfb4-4bdd-b2ff-38dbc1bbb9b0",
   "metadata": {},
   "outputs": [],
   "source": [
    "recommenders = members.alias()\n",
    "stmt = db.select(\n",
    "        members.c.surname.label('Member_Surname'),\n",
    "        members.c.firstname.label('Member_Firstname'),\n",
    "        recommenders.c.surname.label('Recommender_Surname'),\n",
    "        recommenders.c.firstname.label('Recommender_Firstname')\n",
    ")\n",
    "stmt = stmt.select_from(members.join(recommenders, members.c.recommendedby == recommenders.c.memid))\n",
    "stmt = stmt.where(members.c.memid != recommenders.c.memid)\n",
    "stmt = stmt.order_by('Member_Surname', 'Member_Firstname')"
   ]
  },
  {
   "cell_type": "code",
   "execution_count": 7,
   "id": "b266f3e3-0ae6-4245-98de-94469a4a577c",
   "metadata": {},
   "outputs": [
    {
     "name": "stdout",
     "output_type": "stream",
     "text": [
      "       Member_Surname Member_Firstname Recommender_Surname  \\\n",
      "0               Bader         Florence            Stibbons   \n",
      "1               Baker             Anne            Stibbons   \n",
      "2               Baker          Timothy             Farrell   \n",
      "3              Boothe              Tim              Rownam   \n",
      "4             Butters           Gerald               Smith   \n",
      "5              Coplin             Joan               Baker   \n",
      "6             Crumpet            Erica               Smith   \n",
      "7                Dare            Nancy            Joplette   \n",
      "8             Genting          Matthew             Butters   \n",
      "9                Hunt             John             Purview   \n",
      "10              Jones            David            Joplette   \n",
      "11              Jones          Douglas               Jones   \n",
      "12           Joplette           Janice               Smith   \n",
      "13          Mackenzie             Anna               Smith   \n",
      "14               Owen          Charles               Smith   \n",
      "15             Pinker            David             Farrell   \n",
      "16            Purview        Millicent               Smith   \n",
      "17             Rumney        Henrietta             Genting   \n",
      "18             Sarwin        Ramnaresh               Bader   \n",
      "19              Smith             Jack               Smith   \n",
      "20           Stibbons           Ponder               Tracy   \n",
      "21  Worthington-Smyth            Henry               Smith   \n",
      "\n",
      "   Recommender_Firstname  \n",
      "0                 Ponder  \n",
      "1                 Ponder  \n",
      "2                 Jemima  \n",
      "3                    Tim  \n",
      "4                 Darren  \n",
      "5                Timothy  \n",
      "6                  Tracy  \n",
      "7                 Janice  \n",
      "8                 Gerald  \n",
      "9              Millicent  \n",
      "10                Janice  \n",
      "11                 David  \n",
      "12                Darren  \n",
      "13                Darren  \n",
      "14                Darren  \n",
      "15                Jemima  \n",
      "16                 Tracy  \n",
      "17               Matthew  \n",
      "18              Florence  \n",
      "19                Darren  \n",
      "20                Burton  \n",
      "21                 Tracy  \n"
     ]
    }
   ],
   "source": [
    "rs = con.execute(stmt)\n",
    "df = pd.DataFrame(rs.fetchall())\n",
    "df.columns = rs.keys()\n",
    "print(df)"
   ]
  },
  {
   "cell_type": "markdown",
   "id": "2ad72ad4-c373-49fc-b0fe-e2fe5174ac44",
   "metadata": {},
   "source": [
    "# Q12"
   ]
  },
  {
   "cell_type": "code",
   "execution_count": 8,
   "id": "dd8db536-4813-43a0-b52e-14166cacb91a",
   "metadata": {},
   "outputs": [],
   "source": [
    "stmt = db.select(\n",
    "        facilities.c.name,\n",
    "        db.func.sum(bookings.c.slots).label('member_usage')\n",
    ")\n",
    "stmt = stmt.select_from(facilities.join(bookings, facilities.c.facid == bookings.c.facid))\n",
    "stmt = stmt.where(bookings.c.memid != 0)\n",
    "stmt = stmt.group_by(facilities.c.name)\n",
    "stmt = stmt.order_by(db.desc('member_usage'))"
   ]
  },
  {
   "cell_type": "code",
   "execution_count": 9,
   "id": "925fc289-a0c3-4d55-a07e-69efad5584d5",
   "metadata": {},
   "outputs": [
    {
     "name": "stdout",
     "output_type": "stream",
     "text": [
      "              name  member_usage\n",
      "0  Badminton Court          1086\n",
      "1   Tennis Court 1           957\n",
      "2   Massage Room 1           884\n",
      "3   Tennis Court 2           882\n",
      "4    Snooker Table           860\n",
      "5       Pool Table           856\n",
      "6     Table Tennis           794\n",
      "7     Squash Court           418\n",
      "8   Massage Room 2            54\n"
     ]
    }
   ],
   "source": [
    "rs = con.execute(stmt)\n",
    "df = pd.DataFrame(rs.fetchall())\n",
    "df.columns = rs.keys()\n",
    "print(df)"
   ]
  },
  {
   "cell_type": "markdown",
   "id": "aa03648a-edda-4ff3-9ba4-72760efbf69d",
   "metadata": {},
   "source": [
    "# Q13"
   ]
  },
  {
   "cell_type": "code",
   "execution_count": 10,
   "id": "65da890d-13d1-48f0-a269-2e354e11b0ed",
   "metadata": {},
   "outputs": [],
   "source": [
    "stmt = db.select(\n",
    "            facilities.c.name,\n",
    "            db.extract(\"month\", bookings.c.starttime).label('Month'),\n",
    "            db.func.sum(bookings.c.slots).label('member_usage')\n",
    ")\n",
    "stmt = stmt.select_from(facilities.join(bookings, facilities.c.facid == bookings.c.facid))\n",
    "stmt = stmt.where(bookings.c.memid != 0)\n",
    "stmt = stmt.group_by(facilities.c.name, 'Month')"
   ]
  },
  {
   "cell_type": "code",
   "execution_count": 11,
   "id": "63b4606a-cf94-4fc5-8418-7661768c42c1",
   "metadata": {},
   "outputs": [
    {
     "name": "stdout",
     "output_type": "stream",
     "text": [
      "               name  Month  member_usage\n",
      "0   Badminton Court      7           165\n",
      "1   Badminton Court      8           414\n",
      "2   Badminton Court      9           507\n",
      "3    Massage Room 1      7           166\n",
      "4    Massage Room 1      8           316\n",
      "5    Massage Room 1      9           402\n",
      "6    Massage Room 2      7             8\n",
      "7    Massage Room 2      8            18\n",
      "8    Massage Room 2      9            28\n",
      "9        Pool Table      7           110\n",
      "10       Pool Table      8           303\n",
      "11       Pool Table      9           443\n",
      "12    Snooker Table      7           140\n",
      "13    Snooker Table      8           316\n",
      "14    Snooker Table      9           404\n",
      "15     Squash Court      7            50\n",
      "16     Squash Court      8           184\n",
      "17     Squash Court      9           184\n",
      "18     Table Tennis      7            98\n",
      "19     Table Tennis      8           296\n",
      "20     Table Tennis      9           400\n",
      "21   Tennis Court 1      7           201\n",
      "22   Tennis Court 1      8           339\n",
      "23   Tennis Court 1      9           417\n",
      "24   Tennis Court 2      7           123\n",
      "25   Tennis Court 2      8           345\n",
      "26   Tennis Court 2      9           414\n"
     ]
    }
   ],
   "source": [
    "rs = con.execute(stmt)\n",
    "df = pd.DataFrame(rs.fetchall())\n",
    "df.columns = rs.keys()\n",
    "print(df)"
   ]
  },
  {
   "cell_type": "code",
   "execution_count": null,
   "id": "06e46f31-2a33-4135-834c-37c2884d0aea",
   "metadata": {},
   "outputs": [],
   "source": []
  }
 ],
 "metadata": {
  "kernelspec": {
   "display_name": "Python 3 (ipykernel)",
   "language": "python",
   "name": "python3"
  },
  "language_info": {
   "codemirror_mode": {
    "name": "ipython",
    "version": 3
   },
   "file_extension": ".py",
   "mimetype": "text/x-python",
   "name": "python",
   "nbconvert_exporter": "python",
   "pygments_lexer": "ipython3",
   "version": "3.11.7"
  }
 },
 "nbformat": 4,
 "nbformat_minor": 5
}
